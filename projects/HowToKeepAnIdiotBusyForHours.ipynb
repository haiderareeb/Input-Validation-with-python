{
 "cells": [
  {
   "cell_type": "markdown",
   "metadata": {},
   "source": [
    "# Project: How To Keep an Idiot Busy for hours\n",
    "\n",
    "> program doings:\n",
    "* Ask the user if they'd like to know how to keep an idiot busy for hours.\n",
    "* if the user answers no, quit.\n",
    "* if the user answers yes, go to step 1.\n",
    "\n",
    "> Implementation:\n",
    "simple as above"
   ]
  },
  {
   "cell_type": "code",
   "execution_count": 1,
   "metadata": {},
   "outputs": [],
   "source": [
    "import pyinputplus as pyip"
   ]
  },
  {
   "cell_type": "code",
   "execution_count": 5,
   "metadata": {},
   "outputs": [
    {
     "name": "stdout",
     "output_type": "stream",
     "text": [
      "Want to know how to keep an idiot busy for hours?\n",
      "Want to know how to keep an idiot busy for hours?\n",
      "Want to know how to keep an idiot busy for hours?\n",
      "Want to know how to keep an idiot busy for hours?\n",
      "Thank you. Have a nice day.\n"
     ]
    }
   ],
   "source": [
    "while True:\n",
    "    prompt = \"Want to know how to keep an idiot busy for hours?\\n\"\n",
    "    response = pyip.inputYesNo(prompt)\n",
    "    \n",
    "    if response == \"no\":\n",
    "        break\n",
    "\n",
    "print(\"Thank you. Have a nice day.\")"
   ]
  },
  {
   "cell_type": "markdown",
   "metadata": {},
   "source": [
    "You can also make use of the inputYesNo() function in non-English languages by passing yesVal and noVal keyword arguments. For example, the Spanish version of this program would have these two lines:\n",
    "\n",
    "prompt = '¿Quieres saber cómo mantener ocupado a un idiota durante horas?\\n'\n",
    "\n",
    "response = pyip.inputYesNo(prompt, yesVal='sí', noVal='no')\n"
   ]
  }
 ],
 "metadata": {
  "kernelspec": {
   "display_name": "bitnet-cpp",
   "language": "python",
   "name": "python3"
  },
  "language_info": {
   "codemirror_mode": {
    "name": "ipython",
    "version": 3
   },
   "file_extension": ".py",
   "mimetype": "text/x-python",
   "name": "python",
   "nbconvert_exporter": "python",
   "pygments_lexer": "ipython3",
   "version": "3.9.20"
  }
 },
 "nbformat": 4,
 "nbformat_minor": 2
}
