{
 "cells": [
  {
   "cell_type": "markdown",
   "metadata": {},
   "source": [
    "# Sandwich Maker\n",
    "\n",
    "> program doings:\n",
    "* asks user for sandwich preferences.\n",
    "\n",
    "> Implementations:\n",
    "* use pyinputplus to ensure that user enter valid input at each step of sandwich recipe."
   ]
  },
  {
   "cell_type": "code",
   "execution_count": 1,
   "metadata": {},
   "outputs": [],
   "source": [
    "import pyinputplus as pyip"
   ]
  },
  {
   "cell_type": "code",
   "execution_count": null,
   "metadata": {},
   "outputs": [
    {
     "name": "stdout",
     "output_type": "stream",
     "text": [
      "Enter Bread type: \n",
      "Please select one of the following:\n",
      "* wheat\n",
      "* white\n",
      "* sourdough\n",
      "Enter protein type: \n",
      "Please select one of the following:\n",
      "* chicken\n",
      "* turkey\n",
      "* ham\n",
      "* tofu\n",
      "Want Cheese (Y/N);: \n",
      "Please select one of the following:\n",
      "* cheddar\n",
      "* swiss\n",
      "* mozzarella\n",
      "Choose topings: mayo, mustard, lettuce or tomato\n",
      "Please select one of the following:\n",
      "* mayo\n",
      "* mustard\n",
      "* lettuce\n",
      "* tomato\n",
      "How many sandwiches: \n",
      "\n",
      "Thankyou For Ordering,\n",
      "Your Special Sandwich costs: 190rs\n",
      "\n"
     ]
    }
   ],
   "source": [
    "cost = 0\n",
    "price_table = {\"wheat\":10,\"sourdough\":10,\"white\":30,\n",
    "               \"chicken\":30,\"turkey\":40,\"ham\":50,\"tofu\":40,\n",
    "               \"cheddar\":5,\"swiss\":5,\"mozzarella\":8,\n",
    "               \"mayo\":10,\"mustard\":10,\"lettuce\":10,\"tomato\":10}\n",
    "\n",
    "# items we have \n",
    "breads = [\"wheat\",\"white\",\"sourdough\"]\n",
    "proteins = [\"chicken\",\"turkey\",\"ham\",\"tofu\"]\n",
    "cheese = [\"cheddar\",\"swiss\",\"mozzarella\"]\n",
    "topingstypes = [\"mayo\",\"mustard\",\"lettuce\",\"tomato\"]\n",
    "\n",
    "while True:\n",
    "    cost = 0\n",
    "    print(\"Enter Bread type: \")\n",
    "    bread = pyip.inputMenu(breads)\n",
    "    \n",
    "    cost += price_table[bread]\n",
    "    \n",
    "    print(\"Enter protein type: \")\n",
    "    protein =  pyip.inputMenu(proteins)\n",
    "    cost += price_table[protein]\n",
    "\n",
    "    print(\"Want Cheese (Y/N);: \")\n",
    "    wantcheese = pyip.inputYesNo() #always returns lowercase yes or no\n",
    "    \n",
    "    if wantcheese == 'yes':\n",
    "        cheesetype = pyip.inputMenu(cheese)        \n",
    "        cost += price_table[cheesetype]\n",
    "\n",
    "\n",
    "        print(\"Choose topings: mayo, mustard, lettuce or tomato\")\n",
    "        topings = pyip.inputMenu(topingstypes)\n",
    "        cost += price_table[topings]\n",
    "\n",
    "    print(\"How many sandwiches: \")\n",
    "    sandwiches_count = pyip.inputInt(min=1)\n",
    "\n",
    "    cost *= sandwiches_count\n",
    "\n",
    "    print(\"\"\"\n",
    "Thankyou For Ordering,\n",
    "Your Special Sandwich costs: %srs\n",
    "\"\"\" % cost)\n",
    "    \n",
    "    break\n",
    "\n",
    "\n",
    "\n",
    "        "
   ]
  }
 ],
 "metadata": {
  "kernelspec": {
   "display_name": "bitnet-cpp",
   "language": "python",
   "name": "python3"
  },
  "language_info": {
   "codemirror_mode": {
    "name": "ipython",
    "version": 3
   },
   "file_extension": ".py",
   "mimetype": "text/x-python",
   "name": "python",
   "nbconvert_exporter": "python",
   "pygments_lexer": "ipython3",
   "version": "3.9.20"
  }
 },
 "nbformat": 4,
 "nbformat_minor": 2
}
