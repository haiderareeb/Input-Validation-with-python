{
 "cells": [
  {
   "cell_type": "markdown",
   "metadata": {},
   "source": [
    "# Multiplication Quiz\n",
    "\n",
    "> program doings:\n",
    "* ask 10 questions under constraints timelimit and attempts, allow or block regexes.\n",
    "\n",
    "> implementation:\n",
    "* use pyinputplus"
   ]
  },
  {
   "cell_type": "code",
   "execution_count": 2,
   "metadata": {},
   "outputs": [],
   "source": [
    "import pyinputplus as pyip\n",
    "import random, time"
   ]
  },
  {
   "cell_type": "code",
   "execution_count": null,
   "metadata": {},
   "outputs": [
    {
     "name": "stdout",
     "output_type": "stream",
     "text": [
      "#0: 2 x 5 = Correct!\n",
      "#1: 8 x 3 = Incorrect!\n",
      "#1: 8 x 3 = Out of time!\n"
     ]
    }
   ],
   "source": [
    "# run  in jupyter console ( type in terminal jupyter console and copy paste code)\n",
    "numberOfQuestions = 10\n",
    "correctAnswers = 0\n",
    "for questionNumber in range(numberOfQuestions):\n",
    "    num1 = random.randint(0,9)\n",
    "    num2 = random.randint(0,9)\n",
    "\n",
    "    prompt = \"#%s: %s x %s = \" % (questionNumber,num1,num2)\n",
    "\n",
    "    try:\n",
    "        # Right answers are handled by allowRegexes\n",
    "        # wrong answers are handled by blockRegexes, with a custom message.\n",
    "        pyip.inputStr(prompt, allowRegexes=['^%s$' % (num1 * num2)],\n",
    "                      blockRegexes=[('.*','Incorrect!')], #blocks everything else\n",
    "                      timeout=8, limit=3)\n",
    "        \n",
    "    except pyip.TimeoutException:\n",
    "        print(\"Out of time!\")\n",
    "    except pyip.RetryLimitException:\n",
    "        print(\"Out of tries!\")\n",
    "\n",
    "    else:\n",
    "        # if no exceptions were raised in the try block\n",
    "        print(\"Correct!\")\n",
    "        correctAnswers += 1\n",
    "    \n",
    "    time.sleep(2) # let user see the result\n",
    "\n",
    "print(\"Score: %s / %s\" % (correctAnswers, numberOfQuestions))\n"
   ]
  }
 ],
 "metadata": {
  "kernelspec": {
   "display_name": "bitnet-cpp",
   "language": "python",
   "name": "python3"
  },
  "language_info": {
   "codemirror_mode": {
    "name": "ipython",
    "version": 3
   },
   "file_extension": ".py",
   "mimetype": "text/x-python",
   "name": "python",
   "nbconvert_exporter": "python",
   "pygments_lexer": "ipython3",
   "version": "3.9.20"
  }
 },
 "nbformat": 4,
 "nbformat_minor": 2
}
